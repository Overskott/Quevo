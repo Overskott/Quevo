{
 "cells": [
  {
   "cell_type": "markdown",
   "metadata": {},
   "source": [
    "# Evolving quantum circuits - Example project"
   ]
  },
  {
   "cell_type": "markdown",
   "metadata": {},
   "source": [
    "This notebook shows how you may use the quantum-circuit-evolver to find quantum circuits fittet to a 1D Von Neumann neigbourhood for cellular automata. This guide will go through the process of initialising the needed parameters, creating chromosomes generations and in the end simulationg them on the qiskit simulator to see the quantum results."
   ]
  },
  {
   "cell_type": "markdown",
   "metadata": {},
   "source": [
    "First we import the quantum_circuit_evolver library. __Note!__ You need Qiskit for the library to work."
   ]
  },
  {
   "cell_type": "code",
   "execution_count": 2,
   "metadata": {},
   "outputs": [],
   "source": [
    "from QuantumCircuitEvolver.quantum_circuit_evolver import *"
   ]
  },
  {
   "cell_type": "markdown",
   "metadata": {},
   "source": [
    "Then we set up the evovlers parameters. \n",
    "- **gates**: The number of quantum gates per circuit.\n",
    "- **chromosomes**: The number of chromosomes or solutions you want in each generation.\n",
    "- **generation**: The number of generations you want to evolve before terminating.\n",
    "- **desired_chance_of_one**: A list of the eight probabilities for the eight CA initial states you want the circuit to generate. There are some example probability list commented. Remove the comment to test them!"
   ]
  },
  {
   "cell_type": "code",
   "execution_count": 3,
   "metadata": {},
   "outputs": [],
   "source": [
    "gates = 5\n",
    "chromosomes = 10\n",
    "generations = 20\n",
    "gate_types = ['cx', 'h', 'x']  # possible gates: # h, cx, x, y, z, swap, rzz, rxx, toffoli\n",
    "\n",
    "#desired_chance_of_one = [1, 0, 1, 0, 0, 1, 0, 1]\n",
    "desired_chance_of_one = [0.5, 0.7, 0.4, 0.0, 0.2, 0.7, 0.1, 0.9]\n",
    "# desired_chance_of_one = [1.0, 0.5, 1.0, 0.0, 0.0, 1.0, 0.5, 0.0]"
   ]
  },
  {
   "cell_type": "raw",
   "metadata": {},
   "source": [
    "Next, initiallize the first generation firn the number of chromosomes and gates per chromosome. After that, populate it with randomly generated chromosomes with the creat_initial_generation() method and print the chromosome list."
   ]
  },
  {
   "cell_type": "code",
   "execution_count": 4,
   "metadata": {},
   "outputs": [
    {
     "name": "stdout",
     "output_type": "stream",
     "text": [
      "Chromosomes: \n",
      "[0, 1, 0, 2, 2, 2, 2, 0, 1, 2, 2, 0, 2, 2, 2]\n",
      "[1, 2, 1, 0, 1, 0, 0, 1, 0, 0, 1, 2, 1, 2, 2]\n",
      "[2, 0, 1, 1, 1, 2, 1, 1, 2, 0, 1, 0, 0, 1, 0]\n",
      "[2, 1, 2, 0, 1, 0, 2, 2, 2, 2, 0, 2, 0, 1, 0]\n",
      "[1, 2, 2, 2, 0, 2, 0, 1, 0, 0, 0, 2, 0, 2, 1]\n",
      "[0, 2, 0, 0, 2, 0, 1, 1, 2, 0, 0, 2, 1, 2, 0]\n",
      "[1, 0, 2, 1, 2, 1, 0, 1, 0, 1, 2, 0, 1, 1, 0]\n",
      "[2, 1, 0, 1, 0, 2, 2, 0, 1, 0, 1, 2, 0, 1, 0]\n",
      "[1, 0, 1, 2, 0, 1, 1, 0, 2, 0, 2, 1, 1, 0, 2]\n",
      "[0, 1, 0, 1, 1, 2, 2, 1, 1, 0, 0, 2, 0, 0, 1]\n",
      "\n",
      "\n"
     ]
    }
   ],
   "source": [
    "# Generate initial generation of chromosomes\n",
    "init_gen = Generation(chromosomes, gates)\n",
    "init_gen.create_initial_generation(gate_types)\n",
    "init_gen.print_chromosomes()\n",
    "\n"
   ]
  },
  {
   "cell_type": "markdown",
   "metadata": {},
   "source": [
    "Then we check all the chromosomes fitness and print the results."
   ]
  },
  {
   "cell_type": "code",
   "execution_count": 5,
   "metadata": {},
   "outputs": [
    {
     "name": "stdout",
     "output_type": "stream",
     "text": [
      "Fitness for best chromosome: 2.115\n",
      "Best chromosome: \n",
      "[2, 1, 0, 1, 0, 2, 2, 0, 1, 0, 1, 2, 0, 1, 0]\n",
      "\n",
      "\n"
     ]
    }
   ],
   "source": [
    "init_gen.run_generation(desired_chance_of_one)\n",
    "\n",
    "print(\"Fitness for best chromosome: \" + str(init_gen.get_best_fitness()) + \"\\n\"\n",
    "      + \"Best chromosome: \\n\" + str(init_gen.get_best_chromosome()))\n",
    "print(\"\\n\")"
   ]
  },
  {
   "cell_type": "markdown",
   "metadata": {},
   "source": [
    "Before we can start the evolution process, we need to declare some container values fopr the best performing chromosome."
   ]
  },
  {
   "cell_type": "code",
   "execution_count": 6,
   "metadata": {},
   "outputs": [],
   "source": [
    "# Final value placeholders\n",
    "current_chromosome = init_gen.get_best_chromosome()\n",
    "best_chromosome = current_chromosome\n",
    "final_fitness = init_gen.get_best_fitness()"
   ]
  },
  {
   "cell_type": "markdown",
   "metadata": {},
   "source": [
    "Then we create a loop for the number of generations, and every time find the best chromosome in the generation to be a parent for the next generation."
   ]
  },
  {
   "cell_type": "code",
   "execution_count": 7,
   "metadata": {},
   "outputs": [
    {
     "name": "stdout",
     "output_type": "stream",
     "text": [
      "Fitness for best mutated chromosome in mutation 1: 2.062\n",
      "Best mutated chromosome:\n",
      "[2, 1, 0, 1, 0, 2, 2, 0, 1, 2, 1, 0, 0, 1, 0]\n",
      "\n",
      "\n",
      "New best!\n",
      "\n",
      "\n",
      "------------------------------------------------------------------------------\n",
      "Fitness for best mutated chromosome in mutation 2: 2.013\n",
      "Best mutated chromosome:\n",
      "[1, 0, 0, 1, 2, 2, 0, 1, 0, 2, 2, 0, 2, 1, 1]\n",
      "\n",
      "\n",
      "New best!\n",
      "\n",
      "\n",
      "------------------------------------------------------------------------------\n",
      "Fitness for best mutated chromosome in mutation 3: 2.074\n",
      "Best mutated chromosome:\n",
      "[1, 0, 0, 1, 2, 2, 0, 1, 0, 2, 2, 0, 2, 2, 0]\n",
      "\n",
      "\n",
      "------------------------------------------------------------------------------\n",
      "Fitness for best mutated chromosome in mutation 4: 2.074\n",
      "Best mutated chromosome:\n",
      "[1, 0, 0, 1, 2, 2, 0, 1, 0, 2, 2, 0, 0, 1, 0]\n",
      "\n",
      "\n",
      "------------------------------------------------------------------------------\n",
      "Fitness for best mutated chromosome in mutation 5: 2.0489999999999995\n",
      "Best mutated chromosome:\n",
      "[1, 0, 0, 1, 2, 1, 0, 1, 0, 2, 2, 0, 0, 1, 0]\n",
      "\n",
      "\n",
      "------------------------------------------------------------------------------\n",
      "Fitness for best mutated chromosome in mutation 6: 2.0869999999999997\n",
      "Best mutated chromosome:\n",
      "[1, 0, 1, 1, 2, 1, 0, 1, 0, 2, 2, 0, 0, 1, 0]\n",
      "\n",
      "\n",
      "------------------------------------------------------------------------------\n",
      "Fitness for best mutated chromosome in mutation 7: 2.04\n",
      "Best mutated chromosome:\n",
      "[1, 0, 1, 2, 1, 1, 0, 1, 0, 2, 2, 0, 0, 1, 0]\n",
      "\n",
      "\n",
      "------------------------------------------------------------------------------\n",
      "Fitness for best mutated chromosome in mutation 8: 2.042\n",
      "Best mutated chromosome:\n",
      "[2, 0, 0, 0, 1, 0, 2, 2, 0, 1, 0, 2, 2, 0, 2]\n",
      "\n",
      "\n",
      "------------------------------------------------------------------------------\n",
      "Fitness for best mutated chromosome in mutation 9: 2.0479999999999996\n",
      "Best mutated chromosome:\n",
      "[2, 0, 0, 0, 1, 0, 2, 2, 0, 1, 0, 2, 2, 0, 2]\n",
      "\n",
      "\n",
      "------------------------------------------------------------------------------\n",
      "Fitness for best mutated chromosome in mutation 10: 2.086\n",
      "Best mutated chromosome:\n",
      "[0, 1, 0, 0, 1, 0, 2, 2, 0, 1, 0, 2, 2, 0, 2]\n",
      "\n",
      "\n",
      "------------------------------------------------------------------------------\n",
      "Fitness for best mutated chromosome in mutation 11: 2.09\n",
      "Best mutated chromosome:\n",
      "[0, 1, 0, 0, 2, 1, 2, 2, 0, 1, 0, 2, 2, 0, 2]\n",
      "\n",
      "\n",
      "------------------------------------------------------------------------------\n",
      "Fitness for best mutated chromosome in mutation 12: 2.061\n",
      "Best mutated chromosome:\n",
      "[0, 1, 0, 2, 2, 2, 2, 2, 0, 1, 0, 2, 2, 0, 2]\n",
      "\n",
      "\n",
      "------------------------------------------------------------------------------\n",
      "Fitness for best mutated chromosome in mutation 13: 2.05\n",
      "Best mutated chromosome:\n",
      "[1, 0, 2, 1, 2, 1, 2, 1, 1, 1, 1, 0, 0, 2, 0]\n",
      "\n",
      "\n",
      "------------------------------------------------------------------------------\n",
      "Fitness for best mutated chromosome in mutation 14: 2.0319999999999996\n",
      "Best mutated chromosome:\n",
      "[0, 0, 1, 1, 2, 1, 2, 1, 1, 1, 1, 0, 0, 2, 0]\n",
      "\n",
      "\n",
      "------------------------------------------------------------------------------\n",
      "Fitness for best mutated chromosome in mutation 15: 2.0209999999999995\n",
      "Best mutated chromosome:\n",
      "[1, 1, 2, 0, 1, 0, 1, 0, 2, 1, 1, 1, 1, 0, 1]\n",
      "\n",
      "\n",
      "------------------------------------------------------------------------------\n",
      "Fitness for best mutated chromosome in mutation 16: 2.062\n",
      "Best mutated chromosome:\n",
      "[1, 1, 2, 0, 1, 0, 2, 2, 1, 1, 1, 1, 1, 0, 1]\n",
      "\n",
      "\n",
      "------------------------------------------------------------------------------\n",
      "Fitness for best mutated chromosome in mutation 17: 2.059\n",
      "Best mutated chromosome:\n",
      "[1, 1, 2, 0, 1, 0, 2, 2, 1, 1, 1, 1, 1, 0, 0]\n",
      "\n",
      "\n",
      "------------------------------------------------------------------------------\n",
      "Fitness for best mutated chromosome in mutation 18: 2.0490000000000004\n",
      "Best mutated chromosome:\n",
      "[1, 1, 2, 0, 1, 0, 2, 2, 1, 2, 2, 1, 1, 0, 0]\n",
      "\n",
      "\n",
      "------------------------------------------------------------------------------\n",
      "Fitness for best mutated chromosome in mutation 19: 2.036\n",
      "Best mutated chromosome:\n",
      "[0, 2, 0, 1, 1, 0, 2, 0, 1, 0, 0, 2, 1, 0, 0]\n",
      "\n",
      "\n",
      "------------------------------------------------------------------------------\n",
      "Fitness for best mutated chromosome in mutation 20: 2.083\n",
      "Best mutated chromosome:\n",
      "[0, 2, 0, 0, 2, 0, 2, 0, 1, 0, 0, 2, 1, 0, 0]\n",
      "\n",
      "\n",
      "------------------------------------------------------------------------------\n"
     ]
    }
   ],
   "source": [
    "# Mutation loop\n",
    "for gen in range(0, generations):\n",
    "\n",
    "    # Mutate next generation of chromosomes\n",
    "    next_gen = Generation(chromosomes, gates)\n",
    "    next_gen.create_mutated_generation(current_chromosome)\n",
    "\n",
    "    # Check every Chromosome's fitness\n",
    "    next_gen.run_generation(desired_chance_of_one)\n",
    "\n",
    "    current_fitness = next_gen.get_best_fitness()\n",
    "    current_chromosome = next_gen.get_best_chromosome()\n",
    "    \n",
    "    # Print generation best result\n",
    "    print(\"Fitness for best mutated chromosome in mutation \" + str(gen + 1) + \": \"\n",
    "          + str(current_fitness) + \"\\n\"\n",
    "          + \"Best mutated chromosome:\\n\" + str(next_gen.get_best_chromosome()))\n",
    "    print(\"\\n\")\n",
    "\n",
    "    # Check if there is a new_list best chromosome\n",
    "\n",
    "    if final_fitness > current_fitness:\n",
    "        final_fitness = current_fitness\n",
    "        best_chromosome = current_chromosome\n",
    "        print(\"New best!\")\n",
    "        \n",
    "        print(\"\\n\")\n",
    "    if current_fitness < 0.01: # Stop if high enough fitness is reached\n",
    "        break\n",
    "    print(\"------------------------------------------------------------------------------\")\n"
   ]
  },
  {
   "cell_type": "markdown",
   "metadata": {},
   "source": [
    "Last, let's print the result of the best found ciurcuit and visualize it."
   ]
  },
  {
   "cell_type": "code",
   "execution_count": 8,
   "metadata": {},
   "outputs": [
    {
     "name": "stdout",
     "output_type": "stream",
     "text": [
      "Best fitness found: 2.013\n",
      "Best chromosome found: [1, 0, 0, 1, 2, 2, 0, 1, 0, 2, 2, 0, 2, 1, 1]\n",
      "\n",
      "\n",
      "Initial State | Desired outcome | Actual outcome  | Difference\n",
      "[0, 0, 0]              0.5               0.504           0.004\n",
      "[0, 0, 1]              0.7               0.509           0.191\n",
      "[0, 1, 0]              0.4               0.487           0.087\n",
      "[0, 1, 1]              0.0               0.520           0.520\n",
      "[1, 0, 0]              0.2               0.491           0.291\n",
      "[1, 0, 1]              0.7               0.477           0.223\n",
      "[1, 1, 0]              0.1               0.513           0.413\n",
      "[1, 1, 1]              0.9               0.489           0.411\n",
      "     ┌───┐┌───┐     ┌─┐\n",
      "q_0: ┤ H ├┤ X ├─────┤M├\n",
      "     └───┘└─┬─┘┌───┐└╥┘\n",
      "q_1: ───────■──┤ X ├─╫─\n",
      "     ┌───┐┌───┐└───┘ ║ \n",
      "q_2: ┤ H ├┤ X ├──────╫─\n",
      "     └───┘└───┘      ║ \n",
      "c: 1/════════════════╩═\n",
      "                     0 \n"
     ]
    }
   ],
   "source": [
    "print(\"Best fitness found: \" + str(final_fitness))\n",
    "print(\"Best chromosome found: \" + str(best_chromosome))\n",
    "print(\"\\n\")\n",
    "circuit = Circuit(best_chromosome)\n",
    "circuit.print_ca_outcomes(desired_chance_of_one)\n",
    "\n",
    "\n",
    "circuit.generate_circuit()\n",
    "circuit.draw()"
   ]
  },
  {
   "cell_type": "code",
   "execution_count": null,
   "metadata": {},
   "outputs": [],
   "source": []
  }
 ],
 "metadata": {
  "kernelspec": {
   "display_name": "Python 3",
   "language": "python",
   "name": "python3"
  },
  "language_info": {
   "codemirror_mode": {
    "name": "ipython",
    "version": 3
   },
   "file_extension": ".py",
   "mimetype": "text/x-python",
   "name": "python",
   "nbconvert_exporter": "python",
   "pygments_lexer": "ipython3",
   "version": "3.8.3"
  }
 },
 "nbformat": 4,
 "nbformat_minor": 5
}
