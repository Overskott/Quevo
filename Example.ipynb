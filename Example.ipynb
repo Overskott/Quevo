{
 "cells": [
  {
   "cell_type": "code",
   "execution_count": 4,
   "id": "04a5785d",
   "metadata": {},
   "outputs": [],
   "source": [
    "from QuantumCircuitEvolver.quantum_circuit_evolver import *"
   ]
  },
  {
   "cell_type": "code",
   "execution_count": 5,
   "id": "ce675888",
   "metadata": {},
   "outputs": [],
   "source": [
    "gates = 5\n",
    "chromosomes = 10\n",
    "generations = 20\n",
    "desired_chance_of_one = [1, 0, 1, 0, 0, 1, 0, 1]"
   ]
  },
  {
   "cell_type": "code",
   "execution_count": 6,
   "id": "7cbbf5a9",
   "metadata": {},
   "outputs": [],
   "source": [
    "# Generate initial generation of chromosomes\n",
    "init_gen = Generation(10, gates)\n",
    "init_gen.create_initial_generation()\n",
    "\n",
    "self.pr"
   ]
  },
  {
   "cell_type": "code",
   "execution_count": 7,
   "id": "dc171023",
   "metadata": {},
   "outputs": [],
   "source": [
    "# print(\"Circuits: \")\n",
    "    # for chromosome in init_gen.chromosome_list:\n",
    "    #     circuit = Circuit(chromosome)\n",
    "    #     circuit.generate_circuit()\n",
    "    #     circuit.draw()\n",
    "    # print(\"\\n\")"
   ]
  },
  {
   "cell_type": "code",
   "execution_count": null,
   "id": "3db4012f",
   "metadata": {},
   "outputs": [],
   "source": [
    "init_gen.run_generation(desired_chance_of_one)"
   ]
  }
 ],
 "metadata": {
  "kernelspec": {
   "display_name": "Python 3 (ipykernel)",
   "language": "python",
   "name": "python3"
  },
  "language_info": {
   "codemirror_mode": {
    "name": "ipython",
    "version": 3
   },
   "file_extension": ".py",
   "mimetype": "text/x-python",
   "name": "python",
   "nbconvert_exporter": "python",
   "pygments_lexer": "ipython3",
   "version": "3.9.6"
  }
 },
 "nbformat": 4,
 "nbformat_minor": 5
}
