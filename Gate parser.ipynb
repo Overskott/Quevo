{
 "cells": [
  {
   "cell_type": "code",
   "execution_count": 1,
   "id": "abbdf7ac",
   "metadata": {},
   "outputs": [],
   "source": [
    "import numpy as np\n",
    "from qiskit import *"
   ]
  },
  {
   "cell_type": "code",
   "execution_count": 27,
   "id": "9e23b17b",
   "metadata": {},
   "outputs": [
    {
     "name": "stdout",
     "output_type": "stream",
     "text": [
      "6\n",
      "1\n",
      "0\n",
      "0\n",
      " \n",
      "1\n",
      "0\n",
      "0\n",
      " \n",
      "1\n",
      "0\n",
      "0\n",
      " \n",
      "1\n",
      "0\n",
      "0\n",
      " \n",
      "1\n",
      "0\n",
      "0\n",
      " \n",
      "1\n",
      "0\n",
      "0\n",
      " \n"
     ]
    }
   ],
   "source": [
    "q_string = 100111\n",
    "\n",
    "charterList = [receivedDigit for receivedDigit in str(q_string)]\n",
    "\n",
    "\n",
    "for i in charterList:\n",
    "    j=0\n",
    "    \n",
    "    while j < 3:\n",
    "        print(charterList[j])\n",
    "        j += 1\n",
    "        \n",
    "    print(\" \")\n",
    "    \n",
    "    \n"
   ]
  },
  {
   "cell_type": "code",
   "execution_count": 4,
   "id": "586f465f",
   "metadata": {},
   "outputs": [
    {
     "data": {
      "text/plain": [
       "<qiskit.circuit.instructionset.InstructionSet at 0x2bfde3fd180>"
      ]
     },
     "execution_count": 4,
     "metadata": {},
     "output_type": "execute_result"
    }
   ],
   "source": [
    "\n",
    "# Number of qubts in the circuit\n",
    "qubits = 3;\n",
    "\n",
    "# Initialize circuit\n",
    "circuit = QuantumCircuit(qubits,1)\n",
    "\n",
    "# Adding|| gates\n",
    "circuit.h(0)\n",
    "circuit.z(1)\n",
    "circuit.cx(0,2)\n",
    "circuit.x(2)\n",
    "circuit.cx(0,1)\n",
    "circuit.y(1)\n",
    "circuit.h(2)\n",
    "circuit.cx(2,0)\n",
    "circuit.measure(0,0)"
   ]
  },
  {
   "cell_type": "code",
   "execution_count": null,
   "id": "f6e6ff3c",
   "metadata": {},
   "outputs": [],
   "source": []
  },
  {
   "cell_type": "code",
   "execution_count": null,
   "id": "0c081962",
   "metadata": {},
   "outputs": [],
   "source": []
  }
 ],
 "metadata": {
  "kernelspec": {
   "display_name": "Python 3 (ipykernel)",
   "language": "python",
   "name": "python3"
  },
  "language_info": {
   "codemirror_mode": {
    "name": "ipython",
    "version": 3
   },
   "file_extension": ".py",
   "mimetype": "text/x-python",
   "name": "python",
   "nbconvert_exporter": "python",
   "pygments_lexer": "ipython3",
   "version": "3.9.1"
  }
 },
 "nbformat": 4,
 "nbformat_minor": 5
}
