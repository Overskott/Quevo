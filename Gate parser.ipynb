{
 "cells": [
  {
   "cell_type": "code",
   "execution_count": 112,
   "id": "9fa5a92f",
   "metadata": {},
   "outputs": [],
   "source": [
    "import numpy as np\n",
    "import random\n",
    "from qiskit import *\n",
    "from qiskit.visualization import plot_histogram\n",
    "from qiskit.providers.aer import AerSimulator"
   ]
  },
  {
   "cell_type": "code",
   "execution_count": null,
   "id": "2f5aab73",
   "metadata": {},
   "outputs": [],
   "source": [
    "\n"
   ]
  },
  {
   "cell_type": "code",
   "execution_count": 140,
   "id": "3c369c9f",
   "metadata": {},
   "outputs": [
    {
     "name": "stdout",
     "output_type": "stream",
     "text": [
      "[3, 2, 0, 3, 2, 2, 2, 0, 2, 2, 0, 2, 0, 2, 0, 0, 2, 1, 4, 0, 0, 1, 1, 1, 3, 1, 1, 1, 2, 1]\n"
     ]
    }
   ],
   "source": [
    "# Number of qubts in the circuit\n",
    "qubits = 3;\n",
    "\n",
    "# Initialize circuit\n",
    "circuit = QuantumCircuit(qubits,1)\n",
    "\n",
    "\n",
    "string_length = 30 # must be %3==0\n",
    "integer_string = []\n",
    "\n",
    "for i in range(string_length):\n",
    "    \n",
    "    if(i%3==0):\n",
    "        integer_string.append(random.randrange(0,5))\n",
    "    else:\n",
    "        integer_string.append(random.randrange(0,3))\n",
    "        \n",
    "for i in range (0, int(string_length/3)):\n",
    "    int_index = i*3\n",
    "    \n",
    "    if(integer_string[int_index]==0 and integer_string[int_index+1] == integer_string[int_index + 2]):\n",
    "        if(integer_string[int_index+1]== 0):\n",
    "            integer_string[int_index+1]=random.randrange(1,3)\n",
    "        elif (integer_string[int_index+1]== 1):\n",
    "            integer_string[int_index+2]=0 # TODO - hardcoded\n",
    "        elif (integer_string[int_index+1]== 2):\n",
    "            integer_string[int_index+2]=random.randrange(0,2)\n",
    "            \n",
    "print(integer_string)"
   ]
  },
  {
   "cell_type": "code",
   "execution_count": 141,
   "id": "90e6e576",
   "metadata": {},
   "outputs": [
    {
     "data": {
      "text/plain": [
       "<qiskit.circuit.instructionset.InstructionSet at 0x134c97db700>"
      ]
     },
     "execution_count": 141,
     "metadata": {},
     "output_type": "execute_result"
    }
   ],
   "source": [
    "# Parsing integer string and converting it to gates\n",
    "\n",
    "# Test string\n",
    "#gate_string = str(100021200120001)\n",
    "\n",
    "# Needed variables\n",
    "string_length = len(integer_string)\n",
    "#gate_list = [int(x) for x in str(gate_string)] # converting from string to integer list\n",
    "\n",
    "# Iterating\n",
    " # Test purpose\n",
    "for i in range (0, int(string_length/3)):\n",
    "    gate_index = i*3\n",
    "    \n",
    "    a=integer_string[gate_index]\n",
    "    b=integer_string[gate_index+1]\n",
    "    c=integer_string[gate_index+2]\n",
    "    \n",
    "    if (a==0):\n",
    "        circuit.cx(b,c)\n",
    "    elif (a==1):\n",
    "        circuit.x(b)\n",
    "    elif (a==2):\n",
    "        circuit.h(b)\n",
    "    elif (a==3):\n",
    "        circuit.y(b)\n",
    "    elif (a==4):\n",
    "        circuit.z(b)\n",
    "        \n",
    "circuit.measure(0,0)"
   ]
  },
  {
   "cell_type": "code",
   "execution_count": 142,
   "id": "5121e4d4",
   "metadata": {},
   "outputs": [
    {
     "data": {
      "image/png": "[encoded data removed]",
      "text/plain": [
       "<Figure size 507.997x264.88 with 1 Axes>"
      ]
     },
     "execution_count": 142,
     "metadata": {},
     "output_type": "execute_result"
    }
   ],
   "source": [
    "# Draw circuit\n",
    "circuit.draw('mpl') # Remove 'mpl' if you don't have matplotlib installed (or install matplotlib)"
   ]
  },
  {
   "cell_type": "code",
   "execution_count": 143,
   "id": "d541b592",
   "metadata": {},
   "outputs": [
    {
     "data": {
      "image/png": "[encoded data removed]",
      "text/plain": [
       "<Figure size 504x360 with 1 Axes>"
      ]
     },
     "execution_count": 143,
     "metadata": {},
     "output_type": "execute_result"
    }
   ],
   "source": [
    "sim = AerSimulator()   # make new simulator object\n",
    "job = sim.run(circuit) # run the experiment\n",
    "result = job.result()  # get the results\n",
    "counts =result.get_counts()    # interpret the results as a \"counts\" dictionary\n",
    "plot_histogram(counts)"
   ]
  },
  {
   "cell_type": "code",
   "execution_count": 3,
   "id": "35d98b39",
   "metadata": {},
   "outputs": [
    {
     "name": "stdout",
     "output_type": "stream",
     "text": [
      "1\n",
      "0\n",
      "0\n",
      " \n",
      "1\n",
      "0\n",
      "0\n",
      " \n",
      "1\n",
      "0\n",
      "0\n",
      " \n",
      "1\n",
      "0\n",
      "0\n",
      " \n",
      "1\n",
      "0\n",
      "0\n",
      " \n",
      "1\n",
      "0\n",
      "0\n",
      " \n"
     ]
    }
   ],
   "source": [
    "q_string = 100111\n",
    "\n",
    "\n",
    "\n",
    "number_of_gates = len(q_string)/3\n",
    "\n",
    "\n",
    "\n",
    "for i in str(q_string):\n",
    "    j=0\n",
    "    \n",
    "    while j < 3:\n",
    "        print(charterList[j])\n",
    "        j += 1\n",
    "        \n",
    "    print(\" \")\n",
    "    \n",
    "    \n"
   ]
  },
  {
   "cell_type": "code",
   "execution_count": 4,
   "id": "a4d3be2f",
   "metadata": {},
   "outputs": [
    {
     "data": {
      "text/plain": [
       "<qiskit.circuit.instructionset.InstructionSet at 0x2bfde3fd180>"
      ]
     },
     "execution_count": 4,
     "metadata": {},
     "output_type": "execute_result"
    }
   ],
   "source": [
    "\n",
    "# Number of qubts in the circuit\n",
    "qubits = 3;\n",
    "\n",
    "# Initialize circuit\n",
    "circuit = QuantumCircuit(qubits,1)\n",
    "\n",
    "# Adding|| gates\n",
    "circuit.h(0)\n",
    "circuit.z(1)\n",
    "circuit.cx(0,2)\n",
    "circuit.x(2)\n",
    "circuit.cx(0,1)\n",
    "circuit.y(1)\n",
    "circuit.h(2)\n",
    "circuit.cx(2,0)\n",
    "circuit.measure(0,0)"
   ]
  },
  {
   "cell_type": "code",
   "execution_count": null,
   "id": "edc88ce7",
   "metadata": {},
   "outputs": [],
   "source": []
  },
  {
   "cell_type": "code",
   "execution_count": null,
   "id": "4460ce71",
   "metadata": {},
   "outputs": [],
   "source": []
  }
 ],
 "metadata": {
  "kernelspec": {
   "display_name": "Python 3 (ipykernel)",
   "language": "python",
   "name": "python3"
  },
  "language_info": {
   "codemirror_mode": {
    "name": "ipython",
    "version": 3
   },
   "file_extension": ".py",
   "mimetype": "text/x-python",
   "name": "python",
   "nbconvert_exporter": "python",
   "pygments_lexer": "ipython3",
   "version": "3.9.1"
  }
 },
 "nbformat": 4,
 "nbformat_minor": 5
}
