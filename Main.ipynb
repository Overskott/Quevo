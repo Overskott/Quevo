{
 "cells": [
  {
   "cell_type": "code",
   "execution_count": 43,
   "id": "9fa5a92f",
   "metadata": {},
   "outputs": [],
   "source": [
    "import numpy as np\n",
    "import random\n",
    "from qiskit import *\n",
    "from qiskit.visualization import plot_histogram\n",
    "from qiskit.providers.aer import AerSimulator"
   ]
  },
  {
   "cell_type": "code",
   "execution_count": null,
   "id": "344ba312",
   "metadata": {},
   "outputs": [],
   "source": []
  },
  {
   "cell_type": "code",
   "execution_count": 42,
   "id": "40b53ff0",
   "metadata": {},
   "outputs": [],
   "source": [
    "def generateGateString(number_of_gates):\n",
    "    # Returns a randomly generated string representation of given number of qbits\n",
    "    \n",
    "    number_of_gates = number_of_gates\n",
    "    string_length = number_of_gates*3\n",
    "    integer_string = []\n",
    "\n",
    "    for i in range(string_length):\n",
    "        if(i%3==0):\n",
    "            integer_string.append(random.randrange(0,5))\n",
    "        else:\n",
    "            integer_string.append(random.randrange(0,3))\n",
    "\n",
    "    for i in range (0, int(string_length/3)):\n",
    "        int_index = i*3\n",
    "\n",
    "        if(integer_string[int_index]==0 and integer_string[int_index+1] == integer_string[int_index + 2]):\n",
    "            if(integer_string[int_index+1]== 0):\n",
    "                integer_string[int_index+1]=random.randrange(1,3)\n",
    "            elif (integer_string[int_index+1]== 1):\n",
    "                integer_string[int_index+2]=0 # TODO - hardcoded\n",
    "            elif (integer_string[int_index+1]== 2):\n",
    "                integer_string[int_index+2]=random.randrange(0,2)\n",
    "\n",
    "    return integer_string"
   ]
  },
  {
   "cell_type": "code",
   "execution_count": 44,
   "id": "a639f155",
   "metadata": {},
   "outputs": [],
   "source": [
    "def generateCircuitFromString(integer_string):\n",
    "    # Parsing integer string and converting it to gates\n",
    "\n",
    "    # Iterating\n",
    "    for i in range (0, int(string_length/3)):\n",
    "        gate_index = i*3\n",
    "\n",
    "        a=integer_string[gate_index]\n",
    "        b=integer_string[gate_index+1]\n",
    "        c=integer_string[gate_index+2]\n",
    "\n",
    "        if (a==0):\n",
    "            circuit.cx(b,c)\n",
    "        elif (a==1):\n",
    "            circuit.x(b)\n",
    "        elif (a==2):\n",
    "            circuit.h(b)\n",
    "        elif (a==3):\n",
    "            circuit.y(b)\n",
    "        elif (a==4):\n",
    "            circuit.z(b)\n",
    "\n",
    "    circuit.measure(0,0)"
   ]
  },
  {
   "cell_type": "code",
   "execution_count": 105,
   "id": "14b7cc97",
   "metadata": {},
   "outputs": [
    {
     "data": {
      "text/html": [
       "<pre style=\"word-wrap: normal;white-space: pre;background: #fff0;line-height: 1.1;font-family: &quot;Courier New&quot;,Courier,monospace\">     ┌───┐┌───┐     ┌───┐┌───┐          ┌─┐\n",
       "q_0: ┤ X ├┤ X ├──■──┤ Z ├┤ Y ├───────■──┤M├\n",
       "     └───┘└─┬─┘┌─┴─┐├───┤├───┤┌───┐  │  └╥┘\n",
       "q_1: ───────■──┤ X ├┤ X ├┤ Y ├┤ X ├──┼───╫─\n",
       "     ┌───┐     └───┘└───┘└───┘└─┬─┘┌─┴─┐ ║ \n",
       "q_2: ┤ X ├──────────────────────■──┤ X ├─╫─\n",
       "     └───┘                         └───┘ ║ \n",
       "c: 1/════════════════════════════════════╩═\n",
       "                                         0 </pre>"
      ],
      "text/plain": [
       "     ┌───┐┌───┐     ┌───┐┌───┐          ┌─┐\n",
       "q_0: ┤ X ├┤ X ├──■──┤ Z ├┤ Y ├───────■──┤M├\n",
       "     └───┘└─┬─┘┌─┴─┐├───┤├───┤┌───┐  │  └╥┘\n",
       "q_1: ───────■──┤ X ├┤ X ├┤ Y ├┤ X ├──┼───╫─\n",
       "     ┌───┐     └───┘└───┘└───┘└─┬─┘┌─┴─┐ ║ \n",
       "q_2: ┤ X ├──────────────────────■──┤ X ├─╫─\n",
       "     └───┘                         └───┘ ║ \n",
       "c: 1/════════════════════════════════════╩═\n",
       "                                         0 "
      ]
     },
     "execution_count": 105,
     "metadata": {},
     "output_type": "execute_result"
    }
   ],
   "source": [
    "# Number of qubts in the circuit\n",
    "qubits = 3\n",
    "number_of_gates = 10\n",
    "number_of_shots = 1024\n",
    "\n",
    "# Initialize circuit\n",
    "circuit = QuantumCircuit(qubits,1)\n",
    "\n",
    "integer_string = generateGateString(number_of_gates)\n",
    "\n",
    "generateCircuitFromString(integer_string)\n",
    "\n",
    "# Draw circuit\n",
    "circuit.draw() # Remove 'mpl' if you don't have matplotlib installed (or install matplotlib)\n"
   ]
  },
  {
   "cell_type": "code",
   "execution_count": 106,
   "id": "18ae1b54",
   "metadata": {},
   "outputs": [
    {
     "name": "stdout",
     "output_type": "stream",
     "text": [
      "no chance!\n"
     ]
    }
   ],
   "source": [
    "aer_sim = Aer.get_backend('aer_simulator')\n",
    "qobj = assemble(circuit, shots=number_of_shots)\n",
    "job = aer_sim.run(qobj)\n",
    "counts = job.result().get_counts()\n",
    "\n",
    "# Printing probability of getting 1\n",
    "if (counts['0']== number_of_shots):\n",
    "    print(0)\n",
    "else:\n",
    "    print(100*counts['1']/number_of_shots)\n"
   ]
  },
  {
   "cell_type": "code",
   "execution_count": 93,
   "id": "4460ce71",
   "metadata": {},
   "outputs": [
    {
     "name": "stdout",
     "output_type": "stream",
     "text": [
      "50.78125\n"
     ]
    }
   ],
   "source": [
    "\n",
    "\n",
    "\n"
   ]
  },
  {
   "cell_type": "code",
   "execution_count": null,
   "id": "be96e386",
   "metadata": {},
   "outputs": [],
   "source": []
  }
 ],
 "metadata": {
  "kernelspec": {
   "display_name": "Python 3 (ipykernel)",
   "language": "python",
   "name": "python3"
  },
  "language_info": {
   "codemirror_mode": {
    "name": "ipython",
    "version": 3
   },
   "file_extension": ".py",
   "mimetype": "text/x-python",
   "name": "python",
   "nbconvert_exporter": "python",
   "pygments_lexer": "ipython3",
   "version": "3.9.6"
  }
 },
 "nbformat": 4,
 "nbformat_minor": 5
}
